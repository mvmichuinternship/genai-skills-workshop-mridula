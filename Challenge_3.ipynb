{
  "cells": [
    {
      "cell_type": "markdown",
      "source": [
        "Install and import required packages"
      ],
      "metadata": {
        "id": "G8jzQYuGW9FH"
      },
      "id": "G8jzQYuGW9FH"
    },
    {
      "cell_type": "code",
      "id": "XGofmSVdAy0VeCajJ3DC2LWV",
      "metadata": {
        "tags": [],
        "id": "XGofmSVdAy0VeCajJ3DC2LWV"
      },
      "source": [
        "!pip install --upgrade google-genai --quiet"
      ],
      "execution_count": 1,
      "outputs": []
    },
    {
      "cell_type": "code",
      "source": [
        "from google import genai\n",
        "from google.genai import types\n",
        "import base64"
      ],
      "metadata": {
        "id": "6yZ1QWnYL3kl"
      },
      "id": "6yZ1QWnYL3kl",
      "execution_count": 2,
      "outputs": []
    },
    {
      "cell_type": "markdown",
      "source": [
        "The model, system prompt, and configurations including the safety settings can be set."
      ],
      "metadata": {
        "id": "4BLr_iB2XDyG"
      },
      "id": "4BLr_iB2XDyG"
    },
    {
      "cell_type": "code",
      "source": [
        "model = \"gemini-2.0-flash-lite-001\""
      ],
      "metadata": {
        "id": "m_rRMkopL-2x"
      },
      "id": "m_rRMkopL-2x",
      "execution_count": 3,
      "outputs": []
    },
    {
      "cell_type": "code",
      "source": [
        "si_text1 = \"\"\"Classify user questions into one of the following categories: Employment, General Information, Emergency Services, or Tax Related. Output only one of the following: Employment, General Information, Emergency Services, or Tax Related\"\"\"\n",
        "\n",
        "generate_content_config = types.GenerateContentConfig(\n",
        "    temperature = 1,\n",
        "    top_p = 1,\n",
        "    max_output_tokens = 8192,\n",
        "    safety_settings = [types.SafetySetting(\n",
        "      category=\"HARM_CATEGORY_HATE_SPEECH\",\n",
        "      threshold=\"OFF\"\n",
        "    ),types.SafetySetting(\n",
        "      category=\"HARM_CATEGORY_DANGEROUS_CONTENT\",\n",
        "      threshold=\"OFF\"\n",
        "    ),types.SafetySetting(\n",
        "      category=\"HARM_CATEGORY_SEXUALLY_EXPLICIT\",\n",
        "      threshold=\"OFF\"\n",
        "    ),types.SafetySetting(\n",
        "      category=\"HARM_CATEGORY_HARASSMENT\",\n",
        "      threshold=\"OFF\"\n",
        "    )],\n",
        "\n",
        "    system_instruction=[types.Part.from_text(text=si_text1)],\n",
        "  )"
      ],
      "metadata": {
        "id": "hEWK_ea5MnRo"
      },
      "id": "hEWK_ea5MnRo",
      "execution_count": 4,
      "outputs": []
    },
    {
      "cell_type": "markdown",
      "source": [
        "The Client is invoked and the generate function is called with the user input."
      ],
      "metadata": {
        "id": "QMsL5atuXOLU"
      },
      "id": "QMsL5atuXOLU"
    },
    {
      "cell_type": "code",
      "source": [
        "def generate_classification(question):\n",
        "  client = genai.Client(\n",
        "      vertexai=True,\n",
        "      project=\"qwiklabs-gcp-02-598c62ac8986\",\n",
        "      location=\"global\",\n",
        "  )\n",
        "  response_text = \"\"\n",
        "  for chunk in client.models.generate_content_stream(\n",
        "    model = model,\n",
        "    contents=[question],\n",
        "    config = generate_content_config,\n",
        "    ):\n",
        "    print(chunk.text, end=\"\")\n",
        "    response_text += chunk.text\n",
        "  return response_text"
      ],
      "metadata": {
        "id": "9gITkV4bMrpT"
      },
      "id": "9gITkV4bMrpT",
      "execution_count": 5,
      "outputs": []
    },
    {
      "cell_type": "code",
      "source": [
        "while True:\n",
        "    try:\n",
        "      question = input(\"User: \")\n",
        "      if question.strip().lower() in [\"exit\", \"no\", \"quit\"]:\n",
        "          print(\"Bye!\")\n",
        "          break\n",
        "      else:\n",
        "        generate_classification(question)\n",
        "    except KeyboardInterrupt:\n",
        "      print(\"\\n\\nGoodbye!\")\n",
        "      break"
      ],
      "metadata": {
        "colab": {
          "base_uri": "https://localhost:8080/"
        },
        "id": "yot3t8GhNDzQ",
        "outputId": "75f5bde5-0503-43a9-d907-27c05a1575df"
      },
      "id": "yot3t8GhNDzQ",
      "execution_count": 6,
      "outputs": [
        {
          "output_type": "stream",
          "name": "stdout",
          "text": [
            "User: Are there any roles open?\n",
            "Employment\n",
            "User: expiry date of milk?\n",
            "General Information\n",
            "\n",
            "\n",
            "Goodbye!\n"
          ]
        }
      ]
    },
    {
      "cell_type": "markdown",
      "source": [
        "##Unit test cases for the first function.\n",
        "Testing deterministic values of the function whether it responds with the mentioned set of responses."
      ],
      "metadata": {
        "id": "TtvnCvXbXbfs"
      },
      "id": "TtvnCvXbXbfs"
    },
    {
      "cell_type": "code",
      "source": [
        "import unittest\n",
        "class TestDeterministic(unittest.TestCase):\n",
        "  def test_isEmployment(self):\n",
        "    response = generate_classification(\"Are there any roles for government jobs?\")\n",
        "    self.assertEqual(response.strip(), \"Employment\")\n",
        "  def test_isGeneral(self):\n",
        "    response = generate_classification(\"What is the expiry date of milk bought today\")\n",
        "    self.assertEqual(response.strip(), \"General Information\")\n",
        "  def test_isEmergency(self):\n",
        "    response = generate_classification(\"What is the emergency helpline number\")\n",
        "    self.assertEqual(response.strip(), \"Emergency Services\")\n",
        "  def test_isTax(self):\n",
        "    response = generate_classification(\"My salary is 15k per month. How much tax do I have to pay?\")\n",
        "    self.assertEqual(response.strip(), \"Tax Related\")\n",
        "\n",
        "unittest.main(argv=[''], verbosity=2, exit=False)"
      ],
      "metadata": {
        "colab": {
          "base_uri": "https://localhost:8080/"
        },
        "id": "k0IF5ehVXwIL",
        "outputId": "36322c21-16d4-4ead-f737-960b9f8a7b8f"
      },
      "id": "k0IF5ehVXwIL",
      "execution_count": 7,
      "outputs": [
        {
          "output_type": "stream",
          "name": "stderr",
          "text": [
            "test_isEmergency (__main__.TestDeterministic.test_isEmergency) ... ok\n",
            "test_isEmployment (__main__.TestDeterministic.test_isEmployment) ... "
          ]
        },
        {
          "output_type": "stream",
          "name": "stdout",
          "text": [
            "Emergency Services\n"
          ]
        },
        {
          "output_type": "stream",
          "name": "stderr",
          "text": [
            "ok\n",
            "test_isGeneral (__main__.TestDeterministic.test_isGeneral) ... "
          ]
        },
        {
          "output_type": "stream",
          "name": "stdout",
          "text": [
            "Employment\n"
          ]
        },
        {
          "output_type": "stream",
          "name": "stderr",
          "text": [
            "ok\n",
            "test_isTax (__main__.TestDeterministic.test_isTax) ... "
          ]
        },
        {
          "output_type": "stream",
          "name": "stdout",
          "text": [
            "General Information\n"
          ]
        },
        {
          "output_type": "stream",
          "name": "stderr",
          "text": [
            "ok\n",
            "\n",
            "----------------------------------------------------------------------\n",
            "Ran 4 tests in 2.031s\n",
            "\n",
            "OK\n"
          ]
        },
        {
          "output_type": "stream",
          "name": "stdout",
          "text": [
            "Tax Related\n"
          ]
        },
        {
          "output_type": "execute_result",
          "data": {
            "text/plain": [
              "<unittest.main.TestProgram at 0x7c03b9553210>"
            ]
          },
          "metadata": {},
          "execution_count": 7
        }
      ]
    },
    {
      "cell_type": "markdown",
      "source": [
        "Second Function that generates social media posts for government announcements."
      ],
      "metadata": {
        "id": "oWGRVRNVgweP"
      },
      "id": "oWGRVRNVgweP"
    },
    {
      "cell_type": "code",
      "source": [
        "si_text2 = \"\"\"Write a short, friendly social media post for government announcements like weather emergencies, holidays, school closings.\"\"\"\n",
        "\n",
        "generate_content_config_2 = types.GenerateContentConfig(\n",
        "    temperature = 0.5,\n",
        "    top_p = 1,\n",
        "    max_output_tokens = 8192,\n",
        "    safety_settings = [types.SafetySetting(\n",
        "      category=\"HARM_CATEGORY_HATE_SPEECH\",\n",
        "      threshold=\"OFF\"\n",
        "    ),types.SafetySetting(\n",
        "      category=\"HARM_CATEGORY_DANGEROUS_CONTENT\",\n",
        "      threshold=\"OFF\"\n",
        "    ),types.SafetySetting(\n",
        "      category=\"HARM_CATEGORY_SEXUALLY_EXPLICIT\",\n",
        "      threshold=\"OFF\"\n",
        "    ),types.SafetySetting(\n",
        "      category=\"HARM_CATEGORY_HARASSMENT\",\n",
        "      threshold=\"OFF\"\n",
        "    )],\n",
        "    system_instruction=[types.Part.from_text(text=si_text2)],\n",
        "  )"
      ],
      "metadata": {
        "id": "YOVqBaTghIu2"
      },
      "id": "YOVqBaTghIu2",
      "execution_count": 8,
      "outputs": []
    },
    {
      "cell_type": "code",
      "source": [
        "def generate_posts(question):\n",
        "  client = genai.Client(\n",
        "      vertexai=True,\n",
        "      project=\"qwiklabs-gcp-02-598c62ac8986\",\n",
        "      location=\"global\",\n",
        "  )\n",
        "  response_text=\"\"\n",
        "  for chunk in client.models.generate_content_stream(\n",
        "    model = model,\n",
        "    contents=[question],\n",
        "    config = generate_content_config_2,\n",
        "    ):\n",
        "    print(chunk.text, end=\"\")\n",
        "    response_text += chunk.text\n",
        "  return response_text"
      ],
      "metadata": {
        "id": "ww2S5g4zgzmv"
      },
      "id": "ww2S5g4zgzmv",
      "execution_count": 9,
      "outputs": []
    },
    {
      "cell_type": "code",
      "source": [
        "while True:\n",
        "    try:\n",
        "      question = input(\"User: \")\n",
        "      if question.strip().lower() in [\"exit\", \"no\", \"quit\"]:\n",
        "          print(\"Bye!\")\n",
        "          break\n",
        "      else:\n",
        "        generate_posts(question)\n",
        "    except KeyboardInterrupt:\n",
        "      print(\"\\n\\nGoodbye!\")\n",
        "      break"
      ],
      "metadata": {
        "colab": {
          "base_uri": "https://localhost:8080/"
        },
        "id": "CHl6jLC7hmue",
        "outputId": "0dac94f2-f0b0-4ba3-c3a9-492a5943917c"
      },
      "id": "CHl6jLC7hmue",
      "execution_count": 10,
      "outputs": [
        {
          "output_type": "stream",
          "name": "stdout",
          "text": [
            "User: heavy rains in chennai\n",
            "Stay safe, Chennai! 🌧️ Heavy rains are expected. Please take precautions, avoid unnecessary travel, and stay updated on the latest weather alerts. #ChennaiRains #StaySafe #WeatherAlert\n",
            "User: christmas holidays from 25th to 2nd jan\n",
            "Happy Holidays! 🎄 Our offices will be closed from December 25th to January 2nd for the Christmas break. We hope you have a safe and joyful holiday season! ✨ #ChristmasHolidays #HappyHolidays #GovernmentAnnouncement\n",
            "\n",
            "\n",
            "Goodbye!\n"
          ]
        }
      ]
    },
    {
      "cell_type": "code",
      "source": [
        "from vertexai.preview.generative_models import GenerativeModel\n",
        "\n",
        "def does_post_follow_announcement_rules(post):\n",
        "    model = GenerativeModel(\"gemini-2.0-flash-lite-001\")\n",
        "    prompt = f\"\"\"Does the following government announcement post follow these rules?\n",
        "1. The post is short, friendly, and clear.\n",
        "2. The topic is a government announcement like a weather emergency, holiday, or school closing.\n",
        "Only answer Yes or No.\n",
        "\n",
        "Post: {post}\n",
        "Output:\"\"\"\n",
        "    response = model.generate_content(prompt)\n",
        "    return response.text.strip()"
      ],
      "metadata": {
        "id": "A1gwvi1zpBJ8"
      },
      "id": "A1gwvi1zpBJ8",
      "execution_count": 11,
      "outputs": []
    },
    {
      "cell_type": "code",
      "source": [
        "import unittest\n",
        "\n",
        "class TestAnnouncementPostRelevance(unittest.TestCase):\n",
        "    def test_announcement_post_relevance_true(self):\n",
        "        post = generate_posts(\"heavy rains expected\")\n",
        "        isTrue = does_post_follow_announcement_rules(post)\n",
        "        self.assertEqual(isTrue, \"Yes\")\n",
        "\n",
        "unittest.main(argv=[''], verbosity=2, exit=False)\n"
      ],
      "metadata": {
        "colab": {
          "base_uri": "https://localhost:8080/"
        },
        "id": "-CJdUFN2nZoL",
        "outputId": "433323e5-9567-4c27-d479-3953166e4660"
      },
      "id": "-CJdUFN2nZoL",
      "execution_count": 12,
      "outputs": [
        {
          "output_type": "stream",
          "name": "stderr",
          "text": [
            "test_announcement_post_relevance_true (__main__.TestAnnouncementPostRelevance.test_announcement_post_relevance_true) ... "
          ]
        },
        {
          "output_type": "stream",
          "name": "stdout",
          "text": [
            "Heads up, everyone! ☔️ We're expecting heavy rains today. Please stay safe on the roads and be mindful of potential flooding. Stay tuned for updates! #WeatherAlert #StaySafe #[YourCity/Region]\n"
          ]
        },
        {
          "output_type": "stream",
          "name": "stderr",
          "text": [
            "ok\n",
            "test_isEmergency (__main__.TestDeterministic.test_isEmergency) ... ok\n",
            "test_isEmployment (__main__.TestDeterministic.test_isEmployment) ... "
          ]
        },
        {
          "output_type": "stream",
          "name": "stdout",
          "text": [
            "Emergency Services\n"
          ]
        },
        {
          "output_type": "stream",
          "name": "stderr",
          "text": [
            "ok\n",
            "test_isGeneral (__main__.TestDeterministic.test_isGeneral) ... "
          ]
        },
        {
          "output_type": "stream",
          "name": "stdout",
          "text": [
            "Employment\n"
          ]
        },
        {
          "output_type": "stream",
          "name": "stderr",
          "text": [
            "ok\n",
            "test_isTax (__main__.TestDeterministic.test_isTax) ... "
          ]
        },
        {
          "output_type": "stream",
          "name": "stdout",
          "text": [
            "General Information\n"
          ]
        },
        {
          "output_type": "stream",
          "name": "stderr",
          "text": [
            "ok\n",
            "\n",
            "----------------------------------------------------------------------\n",
            "Ran 5 tests in 3.583s\n",
            "\n",
            "OK\n"
          ]
        },
        {
          "output_type": "stream",
          "name": "stdout",
          "text": [
            "Tax Related\n"
          ]
        },
        {
          "output_type": "execute_result",
          "data": {
            "text/plain": [
              "<unittest.main.TestProgram at 0x7c03af080ad0>"
            ]
          },
          "metadata": {},
          "execution_count": 12
        }
      ]
    },
    {
      "cell_type": "markdown",
      "source": [
        "Creating an Evaluation Dataset for function 1"
      ],
      "metadata": {
        "id": "U3RTcKwMs6Lc"
      },
      "id": "U3RTcKwMs6Lc"
    },
    {
      "cell_type": "code",
      "source": [
        "import pandas as pd\n",
        "\n",
        "eval_data = [\n",
        "    {\"prompt\": \"Are there any roles for government jobs?\", \"response\": \"Employment\"},\n",
        "    {\"prompt\": \"What is the expiry date of milk bought today?\", \"response\": \"General Information\"},\n",
        "    {\"prompt\": \"What is the emergency helpline number?\", \"response\": \"Emergency Services\"},\n",
        "    {\"prompt\": \"My salary is 15k per month. How much tax do I pay?\", \"response\": \"Tax Related\"},\n",
        "    {\"prompt\": \"All schools will be closed due to snow on Monday.\", \"response\": \"School Closing Announcement\"}\n",
        "]\n",
        "\n",
        "eval_dataset = pd.DataFrame(eval_data)"
      ],
      "metadata": {
        "id": "Gc8LOYosrCo-"
      },
      "id": "Gc8LOYosrCo-",
      "execution_count": 13,
      "outputs": []
    },
    {
      "cell_type": "markdown",
      "source": [
        "Creating the Evaluation task"
      ],
      "metadata": {
        "id": "atpy_xbDtC-D"
      },
      "id": "atpy_xbDtC-D"
    },
    {
      "cell_type": "code",
      "source": [
        "from vertexai.evaluation import EvalTask\n",
        "import datetime\n",
        "from vertexai.evaluation import (\n",
        "    EvalTask,\n",
        "    PointwiseMetric,\n",
        "    PairwiseMetric,\n",
        "    PointwiseMetricPromptTemplate,\n",
        "    PairwiseMetricPromptTemplate,\n",
        "    MetricPromptTemplateExamples,\n",
        ")\n",
        "\n",
        "\n",
        "metrics = [\n",
        "    MetricPromptTemplateExamples.Pointwise.INSTRUCTION_FOLLOWING,\n",
        "        MetricPromptTemplateExamples.Pointwise.GROUNDEDNESS,\n",
        "        MetricPromptTemplateExamples.Pointwise.VERBOSITY,\n",
        "        MetricPromptTemplateExamples.Pointwise.SUMMARIZATION_QUALITY\n",
        "]\n",
        "\n",
        "run_ts = datetime.datetime.now().strftime(\"%Y%m%d-%H%M%S\")\n",
        "experiment_name = f\"gov-announcement-eval-{run_ts}\"\n",
        "eval_task = EvalTask(\n",
        "    dataset=eval_dataset,\n",
        "    metrics=metrics,\n",
        "    experiment=experiment_name,\n",
        ")\n",
        "\n",
        "model = GenerativeModel(\"gemini-2.0-flash-lite-001\")\n",
        "result = eval_task.evaluate(\n",
        " experiment_run_name=experiment_name\n",
        " )\n",
        "\n",
        "print(\"Summary metrics:\", result.summary_metrics)\n",
        "print(result.metrics_table)"
      ],
      "metadata": {
        "colab": {
          "base_uri": "https://localhost:8080/",
          "height": 1000
        },
        "id": "3MEbG6xztFhp",
        "outputId": "0fbfcb5c-19bc-4d44-8e06-cdb823047b99"
      },
      "id": "3MEbG6xztFhp",
      "execution_count": 14,
      "outputs": [
        {
          "output_type": "display_data",
          "data": {
            "text/plain": [
              "<IPython.core.display.HTML object>"
            ],
            "text/html": [
              "\n",
              "        \n",
              "    <link rel=\"stylesheet\" href=\"https://fonts.googleapis.com/icon?family=Material+Icons\">\n",
              "    <style>\n",
              "      .view-vertex-resource,\n",
              "      .view-vertex-resource:hover,\n",
              "      .view-vertex-resource:visited {\n",
              "        position: relative;\n",
              "        display: inline-flex;\n",
              "        flex-direction: row;\n",
              "        height: 32px;\n",
              "        padding: 0 12px;\n",
              "          margin: 4px 18px;\n",
              "        gap: 4px;\n",
              "        border-radius: 4px;\n",
              "\n",
              "        align-items: center;\n",
              "        justify-content: center;\n",
              "        background-color: rgb(255, 255, 255);\n",
              "        color: rgb(51, 103, 214);\n",
              "\n",
              "        font-family: Roboto,\"Helvetica Neue\",sans-serif;\n",
              "        font-size: 13px;\n",
              "        font-weight: 500;\n",
              "        text-transform: uppercase;\n",
              "        text-decoration: none !important;\n",
              "\n",
              "        transition: box-shadow 280ms cubic-bezier(0.4, 0, 0.2, 1) 0s;\n",
              "        box-shadow: 0px 3px 1px -2px rgba(0,0,0,0.2), 0px 2px 2px 0px rgba(0,0,0,0.14), 0px 1px 5px 0px rgba(0,0,0,0.12);\n",
              "      }\n",
              "      .view-vertex-resource:active {\n",
              "        box-shadow: 0px 5px 5px -3px rgba(0,0,0,0.2),0px 8px 10px 1px rgba(0,0,0,0.14),0px 3px 14px 2px rgba(0,0,0,0.12);\n",
              "      }\n",
              "      .view-vertex-resource:active .view-vertex-ripple::before {\n",
              "        position: absolute;\n",
              "        top: 0;\n",
              "        bottom: 0;\n",
              "        left: 0;\n",
              "        right: 0;\n",
              "        border-radius: 4px;\n",
              "        pointer-events: none;\n",
              "\n",
              "        content: '';\n",
              "        background-color: rgb(51, 103, 214);\n",
              "        opacity: 0.12;\n",
              "      }\n",
              "      .view-vertex-icon {\n",
              "        font-size: 18px;\n",
              "      }\n",
              "    </style>\n",
              "  \n",
              "        <a class=\"view-vertex-resource\" id=\"view-vertex-resource-105a6b8c-8a0a-4c73-b106-cb58f302a2db\" href=\"#view-view-vertex-resource-105a6b8c-8a0a-4c73-b106-cb58f302a2db\">\n",
              "          <span class=\"material-icons view-vertex-icon\">science</span>\n",
              "          <span>View Experiment</span>\n",
              "        </a>\n",
              "        \n",
              "        <script>\n",
              "          (function () {\n",
              "            const link = document.getElementById('view-vertex-resource-105a6b8c-8a0a-4c73-b106-cb58f302a2db');\n",
              "            link.addEventListener('click', (e) => {\n",
              "              if (window.google?.colab?.openUrl) {\n",
              "                window.google.colab.openUrl('https://console.cloud.google.com/vertex-ai/experiments/locations/us-central1/experiments/gov-announcement-eval-20250616-123804/runs?project=qwiklabs-gcp-02-598c62ac8986');\n",
              "              } else {\n",
              "                window.open('https://console.cloud.google.com/vertex-ai/experiments/locations/us-central1/experiments/gov-announcement-eval-20250616-123804/runs?project=qwiklabs-gcp-02-598c62ac8986', '_blank');\n",
              "              }\n",
              "              e.stopPropagation();\n",
              "              e.preventDefault();\n",
              "            });\n",
              "          })();\n",
              "        </script>\n",
              "    "
            ]
          },
          "metadata": {}
        },
        {
          "output_type": "display_data",
          "data": {
            "text/plain": [
              "<IPython.core.display.HTML object>"
            ],
            "text/html": [
              "\n",
              "        \n",
              "    <link rel=\"stylesheet\" href=\"https://fonts.googleapis.com/icon?family=Material+Icons\">\n",
              "    <style>\n",
              "      .view-vertex-resource,\n",
              "      .view-vertex-resource:hover,\n",
              "      .view-vertex-resource:visited {\n",
              "        position: relative;\n",
              "        display: inline-flex;\n",
              "        flex-direction: row;\n",
              "        height: 32px;\n",
              "        padding: 0 12px;\n",
              "          margin: 4px 18px;\n",
              "        gap: 4px;\n",
              "        border-radius: 4px;\n",
              "\n",
              "        align-items: center;\n",
              "        justify-content: center;\n",
              "        background-color: rgb(255, 255, 255);\n",
              "        color: rgb(51, 103, 214);\n",
              "\n",
              "        font-family: Roboto,\"Helvetica Neue\",sans-serif;\n",
              "        font-size: 13px;\n",
              "        font-weight: 500;\n",
              "        text-transform: uppercase;\n",
              "        text-decoration: none !important;\n",
              "\n",
              "        transition: box-shadow 280ms cubic-bezier(0.4, 0, 0.2, 1) 0s;\n",
              "        box-shadow: 0px 3px 1px -2px rgba(0,0,0,0.2), 0px 2px 2px 0px rgba(0,0,0,0.14), 0px 1px 5px 0px rgba(0,0,0,0.12);\n",
              "      }\n",
              "      .view-vertex-resource:active {\n",
              "        box-shadow: 0px 5px 5px -3px rgba(0,0,0,0.2),0px 8px 10px 1px rgba(0,0,0,0.14),0px 3px 14px 2px rgba(0,0,0,0.12);\n",
              "      }\n",
              "      .view-vertex-resource:active .view-vertex-ripple::before {\n",
              "        position: absolute;\n",
              "        top: 0;\n",
              "        bottom: 0;\n",
              "        left: 0;\n",
              "        right: 0;\n",
              "        border-radius: 4px;\n",
              "        pointer-events: none;\n",
              "\n",
              "        content: '';\n",
              "        background-color: rgb(51, 103, 214);\n",
              "        opacity: 0.12;\n",
              "      }\n",
              "      .view-vertex-icon {\n",
              "        font-size: 18px;\n",
              "      }\n",
              "    </style>\n",
              "  \n",
              "        <a class=\"view-vertex-resource\" id=\"view-vertex-resource-cbd32191-8fc1-4c55-8bd2-62442b54fbf6\" href=\"#view-view-vertex-resource-cbd32191-8fc1-4c55-8bd2-62442b54fbf6\">\n",
              "          <span class=\"material-icons view-vertex-icon\">science</span>\n",
              "          <span>View Experiment Run</span>\n",
              "        </a>\n",
              "        \n",
              "        <script>\n",
              "          (function () {\n",
              "            const link = document.getElementById('view-vertex-resource-cbd32191-8fc1-4c55-8bd2-62442b54fbf6');\n",
              "            link.addEventListener('click', (e) => {\n",
              "              if (window.google?.colab?.openUrl) {\n",
              "                window.google.colab.openUrl('https://console.cloud.google.com/vertex-ai/experiments/locations/us-central1/experiments/gov-announcement-eval-20250616-123804/runs/gov-announcement-eval-20250616-123804-gov-announcement-eval-20250616-123804?project=qwiklabs-gcp-02-598c62ac8986');\n",
              "              } else {\n",
              "                window.open('https://console.cloud.google.com/vertex-ai/experiments/locations/us-central1/experiments/gov-announcement-eval-20250616-123804/runs/gov-announcement-eval-20250616-123804-gov-announcement-eval-20250616-123804?project=qwiklabs-gcp-02-598c62ac8986', '_blank');\n",
              "              }\n",
              "              e.stopPropagation();\n",
              "              e.preventDefault();\n",
              "            });\n",
              "          })();\n",
              "        </script>\n",
              "    "
            ]
          },
          "metadata": {}
        },
        {
          "output_type": "stream",
          "name": "stderr",
          "text": [
            "INFO:vertexai.evaluation._evaluation:Computing metrics with a total of 20 Vertex Gen AI Evaluation Service API requests.\n",
            "100%|██████████| 20/20 [00:02<00:00,  7.71it/s]\n",
            "INFO:vertexai.evaluation._evaluation:All 20 metric requests are successfully computed.\n",
            "INFO:vertexai.evaluation._evaluation:Evaluation Took:2.616478054002073 seconds\n"
          ]
        },
        {
          "output_type": "display_data",
          "data": {
            "text/plain": [
              "<IPython.core.display.HTML object>"
            ],
            "text/html": [
              "\n",
              "        \n",
              "    <link rel=\"stylesheet\" href=\"https://fonts.googleapis.com/icon?family=Material+Icons\">\n",
              "    <style>\n",
              "      .view-vertex-resource,\n",
              "      .view-vertex-resource:hover,\n",
              "      .view-vertex-resource:visited {\n",
              "        position: relative;\n",
              "        display: inline-flex;\n",
              "        flex-direction: row;\n",
              "        height: 32px;\n",
              "        padding: 0 12px;\n",
              "          margin: 4px 18px;\n",
              "        gap: 4px;\n",
              "        border-radius: 4px;\n",
              "\n",
              "        align-items: center;\n",
              "        justify-content: center;\n",
              "        background-color: rgb(255, 255, 255);\n",
              "        color: rgb(51, 103, 214);\n",
              "\n",
              "        font-family: Roboto,\"Helvetica Neue\",sans-serif;\n",
              "        font-size: 13px;\n",
              "        font-weight: 500;\n",
              "        text-transform: uppercase;\n",
              "        text-decoration: none !important;\n",
              "\n",
              "        transition: box-shadow 280ms cubic-bezier(0.4, 0, 0.2, 1) 0s;\n",
              "        box-shadow: 0px 3px 1px -2px rgba(0,0,0,0.2), 0px 2px 2px 0px rgba(0,0,0,0.14), 0px 1px 5px 0px rgba(0,0,0,0.12);\n",
              "      }\n",
              "      .view-vertex-resource:active {\n",
              "        box-shadow: 0px 5px 5px -3px rgba(0,0,0,0.2),0px 8px 10px 1px rgba(0,0,0,0.14),0px 3px 14px 2px rgba(0,0,0,0.12);\n",
              "      }\n",
              "      .view-vertex-resource:active .view-vertex-ripple::before {\n",
              "        position: absolute;\n",
              "        top: 0;\n",
              "        bottom: 0;\n",
              "        left: 0;\n",
              "        right: 0;\n",
              "        border-radius: 4px;\n",
              "        pointer-events: none;\n",
              "\n",
              "        content: '';\n",
              "        background-color: rgb(51, 103, 214);\n",
              "        opacity: 0.12;\n",
              "      }\n",
              "      .view-vertex-icon {\n",
              "        font-size: 18px;\n",
              "      }\n",
              "    </style>\n",
              "  \n",
              "        <a class=\"view-vertex-resource\" id=\"view-vertex-resource-bca26d0c-d8f6-4764-988e-53f9a88dfcb3\" href=\"#view-view-vertex-resource-bca26d0c-d8f6-4764-988e-53f9a88dfcb3\">\n",
              "          <span class=\"material-icons view-vertex-icon\">bar_chart</span>\n",
              "          <span>View evaluation results</span>\n",
              "        </a>\n",
              "        \n",
              "        <script>\n",
              "          (function () {\n",
              "            const link = document.getElementById('view-vertex-resource-bca26d0c-d8f6-4764-988e-53f9a88dfcb3');\n",
              "            link.addEventListener('click', (e) => {\n",
              "              if (window.google?.colab?.openUrl) {\n",
              "                window.google.colab.openUrl('https://cloud.google.com/vertex-ai/generative-ai/docs/models/view-evaluation');\n",
              "              } else {\n",
              "                window.open('https://cloud.google.com/vertex-ai/generative-ai/docs/models/view-evaluation', '_blank');\n",
              "              }\n",
              "              e.stopPropagation();\n",
              "              e.preventDefault();\n",
              "            });\n",
              "          })();\n",
              "        </script>\n",
              "    "
            ]
          },
          "metadata": {}
        },
        {
          "output_type": "stream",
          "name": "stdout",
          "text": [
            "Summary metrics: {'row_count': 5, 'instruction_following/mean': np.float64(1.0), 'instruction_following/std': 0.0, 'groundedness/mean': np.float64(0.2), 'groundedness/std': 0.447213595499958, 'verbosity/mean': np.float64(-2.0), 'verbosity/std': 0.0, 'summarization_quality/mean': np.float64(1.6), 'summarization_quality/std': 0.8944271909999159}\n",
            "                                              prompt  \\\n",
            "0           Are there any roles for government jobs?   \n",
            "1      What is the expiry date of milk bought today?   \n",
            "2             What is the emergency helpline number?   \n",
            "3  My salary is 15k per month. How much tax do I ...   \n",
            "4  All schools will be closed due to snow on Monday.   \n",
            "\n",
            "                      response  \\\n",
            "0                   Employment   \n",
            "1          General Information   \n",
            "2           Emergency Services   \n",
            "3                  Tax Related   \n",
            "4  School Closing Announcement   \n",
            "\n",
            "                   instruction_following/explanation  \\\n",
            "0  The response provides a very minimal answer th...   \n",
            "1  The response does not provide an answer to the...   \n",
            "2  The response provides a general service name i...   \n",
            "3  The response fails to calculate or estimate ta...   \n",
            "4  The model only provided a title and did not re...   \n",
            "\n",
            "   instruction_following/score  \\\n",
            "0                          1.0   \n",
            "1                          1.0   \n",
            "2                          1.0   \n",
            "3                          1.0   \n",
            "4                          1.0   \n",
            "\n",
            "                            groundedness/explanation  groundedness/score  \\\n",
            "0  The response is not fully grounded because it ...                 0.0   \n",
            "1  The model did not answer the question about th...                 0.0   \n",
            "2  The response does not provide the emergency he...                 0.0   \n",
            "3  The response doesn't answer the question and s...                 0.0   \n",
            "4  The response only contains information provide...                 1.0   \n",
            "\n",
            "                               verbosity/explanation  verbosity/score  \\\n",
            "0  The response is too short and does not answer ...             -2.0   \n",
            "1  The response is too short and doesn't answer t...             -2.0   \n",
            "2  The response is excessively brief as it only m...             -2.0   \n",
            "3  The response is excessively brief, providing n...             -2.0   \n",
            "4  The response is too short, providing only a ti...             -2.0   \n",
            "\n",
            "                   summarization_quality/explanation  \\\n",
            "0  The response is not grounded because there was...   \n",
            "1  The response is not grounded as it does not pr...   \n",
            "2  The response does not provide the emergency he...   \n",
            "3  The response provides a label, but does not ac...   \n",
            "4  The response is technically a summary, but it'...   \n",
            "\n",
            "   summarization_quality/score  \n",
            "0                          1.0  \n",
            "1                          1.0  \n",
            "2                          2.0  \n",
            "3                          1.0  \n",
            "4                          3.0  \n"
          ]
        }
      ]
    }
  ],
  "metadata": {
    "kernelspec": {
      "display_name": "Python 3",
      "language": "python",
      "name": "python3"
    },
    "language_info": {
      "codemirror_mode": {
        "name": "ipython",
        "version": 3
      },
      "file_extension": ".py",
      "mimetype": "text/x-python",
      "name": "python",
      "nbconvert_exporter": "python",
      "pygments_lexer": "ipython3",
      "version": "3.10.10"
    },
    "colab": {
      "provenance": [],
      "name": "student-03-2d6633367266 (Jun 16, 2025, 3:30:33 PM)"
    }
  },
  "nbformat": 4,
  "nbformat_minor": 5
}